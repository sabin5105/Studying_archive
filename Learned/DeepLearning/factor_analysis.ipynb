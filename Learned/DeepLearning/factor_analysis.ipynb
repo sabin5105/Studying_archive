{
 "cells": [
  {
   "cell_type": "markdown",
   "metadata": {},
   "source": [
    "# Factor analysis\n",
    "Factor analysis is a linear statistical model. \n",
    "\n",
    "It is used to explain the variance among the observed variable and condense a set of the observed variable into the unobserved variable called factors\n",
    "\n",
    "## Compare to PCA\n",
    "\n",
    "* PCA is focused on the variance of the observed variable, while FA is focused on the covariance of the observed variable\n",
    "* PCA's components are orthogonal, while FA's components are not orthogonal\n",
    "* PCA is a combination of the observed variable, while FA is a combination of the unobserved variable or factor"
   ]
  },
  {
   "cell_type": "code",
   "execution_count": 23,
   "metadata": {},
   "outputs": [
    {
     "name": "stdout",
     "output_type": "stream",
     "text": [
      "(2800, 29)\n"
     ]
    },
    {
     "data": {
      "text/html": [
       "<div>\n",
       "<style scoped>\n",
       "    .dataframe tbody tr th:only-of-type {\n",
       "        vertical-align: middle;\n",
       "    }\n",
       "\n",
       "    .dataframe tbody tr th {\n",
       "        vertical-align: top;\n",
       "    }\n",
       "\n",
       "    .dataframe thead th {\n",
       "        text-align: right;\n",
       "    }\n",
       "</style>\n",
       "<table border=\"1\" class=\"dataframe\">\n",
       "  <thead>\n",
       "    <tr style=\"text-align: right;\">\n",
       "      <th></th>\n",
       "      <th>Unnamed: 0</th>\n",
       "      <th>A1</th>\n",
       "      <th>A2</th>\n",
       "      <th>A3</th>\n",
       "      <th>A4</th>\n",
       "      <th>A5</th>\n",
       "      <th>C1</th>\n",
       "      <th>C2</th>\n",
       "      <th>C3</th>\n",
       "      <th>C4</th>\n",
       "      <th>...</th>\n",
       "      <th>N4</th>\n",
       "      <th>N5</th>\n",
       "      <th>O1</th>\n",
       "      <th>O2</th>\n",
       "      <th>O3</th>\n",
       "      <th>O4</th>\n",
       "      <th>O5</th>\n",
       "      <th>gender</th>\n",
       "      <th>education</th>\n",
       "      <th>age</th>\n",
       "    </tr>\n",
       "  </thead>\n",
       "  <tbody>\n",
       "    <tr>\n",
       "      <th>0</th>\n",
       "      <td>61617</td>\n",
       "      <td>2.0</td>\n",
       "      <td>4.0</td>\n",
       "      <td>3.0</td>\n",
       "      <td>4.0</td>\n",
       "      <td>4.0</td>\n",
       "      <td>2.0</td>\n",
       "      <td>3.0</td>\n",
       "      <td>3.0</td>\n",
       "      <td>4.0</td>\n",
       "      <td>...</td>\n",
       "      <td>2.0</td>\n",
       "      <td>3.0</td>\n",
       "      <td>3.0</td>\n",
       "      <td>6</td>\n",
       "      <td>3.0</td>\n",
       "      <td>4.0</td>\n",
       "      <td>3.0</td>\n",
       "      <td>1</td>\n",
       "      <td>NaN</td>\n",
       "      <td>16</td>\n",
       "    </tr>\n",
       "    <tr>\n",
       "      <th>1</th>\n",
       "      <td>61618</td>\n",
       "      <td>2.0</td>\n",
       "      <td>4.0</td>\n",
       "      <td>5.0</td>\n",
       "      <td>2.0</td>\n",
       "      <td>5.0</td>\n",
       "      <td>5.0</td>\n",
       "      <td>4.0</td>\n",
       "      <td>4.0</td>\n",
       "      <td>3.0</td>\n",
       "      <td>...</td>\n",
       "      <td>5.0</td>\n",
       "      <td>5.0</td>\n",
       "      <td>4.0</td>\n",
       "      <td>2</td>\n",
       "      <td>4.0</td>\n",
       "      <td>3.0</td>\n",
       "      <td>3.0</td>\n",
       "      <td>2</td>\n",
       "      <td>NaN</td>\n",
       "      <td>18</td>\n",
       "    </tr>\n",
       "    <tr>\n",
       "      <th>2</th>\n",
       "      <td>61620</td>\n",
       "      <td>5.0</td>\n",
       "      <td>4.0</td>\n",
       "      <td>5.0</td>\n",
       "      <td>4.0</td>\n",
       "      <td>4.0</td>\n",
       "      <td>4.0</td>\n",
       "      <td>5.0</td>\n",
       "      <td>4.0</td>\n",
       "      <td>2.0</td>\n",
       "      <td>...</td>\n",
       "      <td>2.0</td>\n",
       "      <td>3.0</td>\n",
       "      <td>4.0</td>\n",
       "      <td>2</td>\n",
       "      <td>5.0</td>\n",
       "      <td>5.0</td>\n",
       "      <td>2.0</td>\n",
       "      <td>2</td>\n",
       "      <td>NaN</td>\n",
       "      <td>17</td>\n",
       "    </tr>\n",
       "    <tr>\n",
       "      <th>3</th>\n",
       "      <td>61621</td>\n",
       "      <td>4.0</td>\n",
       "      <td>4.0</td>\n",
       "      <td>6.0</td>\n",
       "      <td>5.0</td>\n",
       "      <td>5.0</td>\n",
       "      <td>4.0</td>\n",
       "      <td>4.0</td>\n",
       "      <td>3.0</td>\n",
       "      <td>5.0</td>\n",
       "      <td>...</td>\n",
       "      <td>4.0</td>\n",
       "      <td>1.0</td>\n",
       "      <td>3.0</td>\n",
       "      <td>3</td>\n",
       "      <td>4.0</td>\n",
       "      <td>3.0</td>\n",
       "      <td>5.0</td>\n",
       "      <td>2</td>\n",
       "      <td>NaN</td>\n",
       "      <td>17</td>\n",
       "    </tr>\n",
       "    <tr>\n",
       "      <th>4</th>\n",
       "      <td>61622</td>\n",
       "      <td>2.0</td>\n",
       "      <td>3.0</td>\n",
       "      <td>3.0</td>\n",
       "      <td>4.0</td>\n",
       "      <td>5.0</td>\n",
       "      <td>4.0</td>\n",
       "      <td>4.0</td>\n",
       "      <td>5.0</td>\n",
       "      <td>3.0</td>\n",
       "      <td>...</td>\n",
       "      <td>4.0</td>\n",
       "      <td>3.0</td>\n",
       "      <td>3.0</td>\n",
       "      <td>3</td>\n",
       "      <td>4.0</td>\n",
       "      <td>3.0</td>\n",
       "      <td>3.0</td>\n",
       "      <td>1</td>\n",
       "      <td>NaN</td>\n",
       "      <td>17</td>\n",
       "    </tr>\n",
       "  </tbody>\n",
       "</table>\n",
       "<p>5 rows × 29 columns</p>\n",
       "</div>"
      ],
      "text/plain": [
       "   Unnamed: 0   A1   A2   A3   A4   A5   C1   C2   C3   C4  ...   N4   N5  \\\n",
       "0       61617  2.0  4.0  3.0  4.0  4.0  2.0  3.0  3.0  4.0  ...  2.0  3.0   \n",
       "1       61618  2.0  4.0  5.0  2.0  5.0  5.0  4.0  4.0  3.0  ...  5.0  5.0   \n",
       "2       61620  5.0  4.0  5.0  4.0  4.0  4.0  5.0  4.0  2.0  ...  2.0  3.0   \n",
       "3       61621  4.0  4.0  6.0  5.0  5.0  4.0  4.0  3.0  5.0  ...  4.0  1.0   \n",
       "4       61622  2.0  3.0  3.0  4.0  5.0  4.0  4.0  5.0  3.0  ...  4.0  3.0   \n",
       "\n",
       "    O1  O2   O3   O4   O5  gender  education  age  \n",
       "0  3.0   6  3.0  4.0  3.0       1        NaN   16  \n",
       "1  4.0   2  4.0  3.0  3.0       2        NaN   18  \n",
       "2  4.0   2  5.0  5.0  2.0       2        NaN   17  \n",
       "3  3.0   3  4.0  3.0  5.0       2        NaN   17  \n",
       "4  3.0   3  4.0  3.0  3.0       1        NaN   17  \n",
       "\n",
       "[5 rows x 29 columns]"
      ]
     },
     "execution_count": 23,
     "metadata": {},
     "output_type": "execute_result"
    }
   ],
   "source": [
    "import pandas as pd\n",
    "from sklearn.datasets import load_iris\n",
    "from sklearn.decomposition import FactorAnalysis\n",
    "from sklearn.decomposition import PCA\n",
    "import matplotlib.pyplot as plt\n",
    "import numpy as np\n",
    "\n",
    "df= pd.read_csv(\"./data/bfi.csv\")\n",
    "print(df.shape)\n",
    "df.head()"
   ]
  },
  {
   "cell_type": "code",
   "execution_count": 24,
   "metadata": {},
   "outputs": [
    {
     "name": "stdout",
     "output_type": "stream",
     "text": [
      "<class 'pandas.core.frame.DataFrame'>\n",
      "Int64Index: 2436 entries, 0 to 2799\n",
      "Data columns (total 25 columns):\n",
      " #   Column  Non-Null Count  Dtype  \n",
      "---  ------  --------------  -----  \n",
      " 0   A1      2436 non-null   float64\n",
      " 1   A2      2436 non-null   float64\n",
      " 2   A3      2436 non-null   float64\n",
      " 3   A4      2436 non-null   float64\n",
      " 4   A5      2436 non-null   float64\n",
      " 5   C1      2436 non-null   float64\n",
      " 6   C2      2436 non-null   float64\n",
      " 7   C3      2436 non-null   float64\n",
      " 8   C4      2436 non-null   float64\n",
      " 9   C5      2436 non-null   float64\n",
      " 10  E1      2436 non-null   float64\n",
      " 11  E2      2436 non-null   float64\n",
      " 12  E3      2436 non-null   float64\n",
      " 13  E4      2436 non-null   float64\n",
      " 14  E5      2436 non-null   float64\n",
      " 15  N1      2436 non-null   float64\n",
      " 16  N2      2436 non-null   float64\n",
      " 17  N3      2436 non-null   float64\n",
      " 18  N4      2436 non-null   float64\n",
      " 19  N5      2436 non-null   float64\n",
      " 20  O1      2436 non-null   float64\n",
      " 21  O2      2436 non-null   int64  \n",
      " 22  O3      2436 non-null   float64\n",
      " 23  O4      2436 non-null   float64\n",
      " 24  O5      2436 non-null   float64\n",
      "dtypes: float64(24), int64(1)\n",
      "memory usage: 494.8 KB\n"
     ]
    }
   ],
   "source": [
    "df.drop(['gender', 'education', 'age', 'Unnamed: 0'],axis=1,inplace=True)\n",
    "df.dropna(inplace=True)\n",
    "df.info()"
   ]
  },
  {
   "cell_type": "code",
   "execution_count": 33,
   "metadata": {},
   "outputs": [
    {
     "data": {
      "text/plain": [
       "<AxesSubplot: >"
      ]
     },
     "execution_count": 33,
     "metadata": {},
     "output_type": "execute_result"
    },
    {
     "data": {
      "image/png": "[encoded data removed]",
      "text/plain": [
       "<Figure size 576x576 with 2 Axes>"
      ]
     },
     "metadata": {
      "needs_background": "light"
     },
     "output_type": "display_data"
    }
   ],
   "source": [
    "import seaborn as sns\n",
    "\n",
    "plt.figure(figsize=(8,8))\n",
    "sns.heatmap(df.corr())"
   ]
  },
  {
   "cell_type": "markdown",
   "metadata": {},
   "source": [
    "# PCA & factor analysis"
   ]
  },
  {
   "cell_type": "code",
   "execution_count": 46,
   "metadata": {},
   "outputs": [
    {
     "name": "stdout",
     "output_type": "stream",
     "text": [
      "explained variance ratio [0.21564969 0.11961961 0.08205116]\n",
      "singular values [162.42808189 120.97284481 100.19108248]\n",
      "components [[ 0.09751462 -0.14393626 -0.186193   -0.1904565  -0.21072113 -0.11572195\n",
      "  -0.11313197 -0.11945455  0.20488688  0.27627832  0.21665513  0.3246385\n",
      "  -0.19754701 -0.26586987 -0.19508025  0.26254009  0.25127777  0.26213449\n",
      "   0.3093913   0.23241882 -0.09681692  0.10542961 -0.12626937  0.05084244\n",
      "   0.07759554]\n",
      " [ 0.03173791 -0.17945077 -0.21664948 -0.14965836 -0.15710091 -0.08557445\n",
      "  -0.12875026 -0.05522978 -0.01851269 -0.03772079  0.2542781   0.15651209\n",
      "  -0.24734431 -0.21748469 -0.22374223 -0.37943158 -0.35751687 -0.3869892\n",
      "  -0.20398586 -0.29530235 -0.09558984 -0.06502322 -0.15534778 -0.09073902\n",
      "   0.01654048]\n",
      " [ 0.060388   -0.03978754 -0.08380085 -0.01892912 -0.11737162  0.31485701\n",
      "   0.37500713  0.29812151 -0.3655035  -0.34561488  0.30459008  0.21600891\n",
      "  -0.06112609 -0.23283878  0.08281944  0.05508071  0.09072468  0.07930872\n",
      "   0.09979694  0.03318921  0.1143037  -0.29059825  0.08963966  0.12975683\n",
      "  -0.19153146]]\n",
      "total variance 0.417320472856198\n"
     ]
    }
   ],
   "source": [
    "# PCA\n",
    "pca = PCA(n_components=3)\n",
    "pca.fit(df)\n",
    "print(\"explained variance ratio\", pca.explained_variance_ratio_)\n",
    "print(\"singular values\", pca.singular_values_)\n",
    "print(\"components\", pca.components_)\n",
    "print(\"total variance\", pca.explained_variance_ratio_.sum())"
   ]
  },
  {
   "cell_type": "code",
   "execution_count": 44,
   "metadata": {},
   "outputs": [
    {
     "name": "stdout",
     "output_type": "stream",
     "text": [
      "pvar without noise: 0.5531937120586317 0.281492195081799 0.16531409285956927\n",
      "pvar with noise: 0.18856855318595453 0.0959529633158365 0.05635103695552048\n",
      "noise variance: [1.86231321 1.00437225 1.06152341 1.78024123 0.91749543 0.98809318\n",
      " 0.99888716 1.19844799 0.99960078 1.67127174 1.9053502  1.50118335\n",
      " 1.08430302 1.09059617 1.15756809 0.8896145  0.88225889 1.17274269\n",
      " 1.46831171 1.93091441 1.1086748  2.24416566 1.16606117 1.35440996\n",
      " 1.66312727]\n",
      "total variance: 50.220224391685164\n",
      "component variance: 17.11869612359288\n"
     ]
    }
   ],
   "source": [
    "# factor analysis\n",
    "fa = FactorAnalysis(n_components=3)\n",
    "fa.fit(df)\n",
    "\n",
    "# explained variance\n",
    "m = fa.components_\n",
    "n = fa.noise_variance_\n",
    "m1 = m**2\n",
    "m2 = np.sum(m1,axis=1)\n",
    "pvar1 = (m2[0])/np.sum(m2)\n",
    "pvar2 = (m2[1])/np.sum(m2)\n",
    "pvar3 = (m2[2])/np.sum(m2)\n",
    "pvar1_with_noise = (m2[0])/(np.sum(m2)+np.sum(n))\n",
    "pvar2_with_noise = (m2[1])/(np.sum(m2)+np.sum(n))\n",
    "pvar3_with_noise = (m2[2])/(np.sum(m2)+np.sum(n))\n",
    "print(\"pvar without noise:\",pvar1,pvar2,pvar3)\n",
    "print(\"pvar with noise:\",pvar1_with_noise,pvar2_with_noise,pvar3_with_noise)\n",
    "print(\"noise variance:\",n)\n",
    "print(\"total variance:\",np.sum(m2)+np.sum(n))\n",
    "print(\"component variance:\",np.sum(m2))"
   ]
  },
  {
   "cell_type": "code",
   "execution_count": 40,
   "metadata": {},
   "outputs": [
    {
     "data": {
      "text/plain": [
       "<matplotlib.legend.Legend at 0x7f96808df340>"
      ]
     },
     "execution_count": 40,
     "metadata": {},
     "output_type": "execute_result"
    },
    {
     "data": {
      "image/png": "[encoded data removed]",
      "text/plain": [
       "<Figure size 432x432 with 1 Axes>"
      ]
     },
     "metadata": {
      "needs_background": "light"
     },
     "output_type": "display_data"
    }
   ],
   "source": [
    "plt.figure(figsize=(6,6))\n",
    "plt.scatter(fa.components_[0],fa.components_[1],label='FA')\n",
    "plt.scatter(pca.components_[0],pca.components_[1],label='PCA')\n",
    "plt.legend()"
   ]
  },
  {
   "cell_type": "markdown",
   "metadata": {},
   "source": [
    "# why the fa and pca show different plot?\n",
    "\n",
    "* FA is covariance based, PCA is variance based. \n",
    "* PCA is a linear transformation of the data, while FA is a linear transformation of the data and the latent variables."
   ]
  },
  {
   "cell_type": "code",
   "execution_count": null,
   "metadata": {},
   "outputs": [],
   "source": []
  }
 ],
 "metadata": {
  "kernelspec": {
   "display_name": "Python 3.9.13 ('ML')",
   "language": "python",
   "name": "python3"
  },
  "language_info": {
   "codemirror_mode": {
    "name": "ipython",
    "version": 3
   },
   "file_extension": ".py",
   "mimetype": "text/x-python",
   "name": "python",
   "nbconvert_exporter": "python",
   "pygments_lexer": "ipython3",
   "version": "3.9.16"
  },
  "orig_nbformat": 4,
  "vscode": {
   "interpreter": {
    "hash": "19d29624fa02f72a2f2eb64b5fa4dfbc751609e2b6c88be691c0db207c64cc14"
   }
  }
 },
 "nbformat": 4,
 "nbformat_minor": 2
}
