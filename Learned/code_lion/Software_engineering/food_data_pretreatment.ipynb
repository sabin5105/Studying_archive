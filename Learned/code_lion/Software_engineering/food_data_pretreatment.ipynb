{
 "cells": [
  {
   "cell_type": "code",
   "execution_count": 4,
   "id": "fe5f50fa",
   "metadata": {},
   "outputs": [],
   "source": [
    "import pandas as pd\n",
    "import numpy as np"
   ]
  },
  {
   "cell_type": "code",
   "execution_count": 73,
   "id": "7a57d180",
   "metadata": {},
   "outputs": [],
   "source": [
    "df_sweet = pd.read_csv(\n",
    "    \"https://docs.google.com/spreadsheets/d/e/2PACX-1vSiAzsjRqvLWoFSpOuRlz2xtDef2yAN77AGsvmAgCWRtpF8NVr71sNTdNazri4o1FAmF7QA540PNveb/pub?gid=1090863632&single=true&output=csv\",\n",
    "    index_col=0,\n",
    ")\n",
    "df_oily = pd.read_csv(\n",
    "    \"https://docs.google.com/spreadsheets/d/e/2PACX-1vSiAzsjRqvLWoFSpOuRlz2xtDef2yAN77AGsvmAgCWRtpF8NVr71sNTdNazri4o1FAmF7QA540PNveb/pub?gid=1369311762&single=true&output=csv\",\n",
    "    index_col=0,\n",
    ")\n",
    "df_hot = pd.read_csv(\n",
    "    \"https://docs.google.com/spreadsheets/d/e/2PACX-1vSiAzsjRqvLWoFSpOuRlz2xtDef2yAN77AGsvmAgCWRtpF8NVr71sNTdNazri4o1FAmF7QA540PNveb/pub?gid=0&single=true&output=csv\",\n",
    "    index_col=0,\n",
    ")"
   ]
  },
  {
   "cell_type": "code",
   "execution_count": 94,
   "id": "62da4b60",
   "metadata": {},
   "outputs": [
    {
     "data": {
      "text/html": [
       "<div>\n",
       "<style scoped>\n",
       "    .dataframe tbody tr th:only-of-type {\n",
       "        vertical-align: middle;\n",
       "    }\n",
       "\n",
       "    .dataframe tbody tr th {\n",
       "        vertical-align: top;\n",
       "    }\n",
       "\n",
       "    .dataframe thead th {\n",
       "        text-align: right;\n",
       "    }\n",
       "</style>\n",
       "<table border=\"1\" class=\"dataframe\">\n",
       "  <thead>\n",
       "    <tr style=\"text-align: right;\">\n",
       "      <th></th>\n",
       "      <th>u0</th>\n",
       "      <th>u1</th>\n",
       "      <th>u2</th>\n",
       "    </tr>\n",
       "    <tr>\n",
       "      <th>\bmenu</th>\n",
       "      <th></th>\n",
       "      <th></th>\n",
       "      <th></th>\n",
       "    </tr>\n",
       "  </thead>\n",
       "  <tbody>\n",
       "    <tr>\n",
       "      <th>계란밥</th>\n",
       "      <td>0.2</td>\n",
       "      <td>0.1</td>\n",
       "      <td>0.2</td>\n",
       "    </tr>\n",
       "    <tr>\n",
       "      <th>그릭요거트</th>\n",
       "      <td>0.1</td>\n",
       "      <td>0.1</td>\n",
       "      <td>0.3</td>\n",
       "    </tr>\n",
       "    <tr>\n",
       "      <th>김치찌개</th>\n",
       "      <td>0.2</td>\n",
       "      <td>0.2</td>\n",
       "      <td>0.1</td>\n",
       "    </tr>\n",
       "  </tbody>\n",
       "</table>\n",
       "</div>"
      ],
      "text/plain": [
       "        u0   u1   u2\n",
       "\bmenu               \n",
       "계란밥    0.2  0.1  0.2\n",
       "그릭요거트  0.1  0.1  0.3\n",
       "김치찌개   0.2  0.2  0.1"
      ]
     },
     "execution_count": 94,
     "metadata": {},
     "output_type": "execute_result"
    }
   ],
   "source": [
    "df_sweet.head(3)"
   ]
  },
  {
   "cell_type": "code",
   "execution_count": 104,
   "id": "4d7a9abb",
   "metadata": {},
   "outputs": [],
   "source": [
    "def check_range(df):\n",
    "    df_mask = df.isna()\n",
    "    df_hot_filled = df.mask(df_mask,0.5)\n",
    "    gte0 = df_hot_filled >= 0\n",
    "    lte1 = df_hot_filled <= 1\n",
    "\n",
    "    return gte0.all(axis = None) and lte1.all(axis=None) # .all() - 모든 것이 참인가?\n",
    "\n",
    "def check_no_na(df):\n",
    "    #return df.isnull().sum().sum() == 0\n",
    "    return not df.isna().any(axis = None) # .any() - 한 개라도 참이 있는가?\n",
    "\n",
    "def check_foodnames(dfs):\n",
    "    sets = [set(df.index) for df in dfs]\n",
    "    return set.intersection(*sets) == set.union(*sets)"
   ]
  },
  {
   "cell_type": "code",
   "execution_count": 75,
   "id": "cfba9894",
   "metadata": {},
   "outputs": [
    {
     "data": {
      "text/plain": [
       "(True, True, False)"
      ]
     },
     "execution_count": 75,
     "metadata": {},
     "output_type": "execute_result"
    }
   ],
   "source": [
    "check_range(df_sweet), check_range(df_oily), check_range(df_hot)"
   ]
  },
  {
   "cell_type": "code",
   "execution_count": 88,
   "id": "89b37bc1",
   "metadata": {},
   "outputs": [
    {
     "data": {
      "text/plain": [
       "(False, False, False)"
      ]
     },
     "execution_count": 88,
     "metadata": {},
     "output_type": "execute_result"
    }
   ],
   "source": [
    "check_no_na(df_sweet), check_no_na(df_oily), check_no_na(df_hot)"
   ]
  },
  {
   "cell_type": "code",
   "execution_count": 93,
   "id": "b5482d5a",
   "metadata": {},
   "outputs": [
    {
     "data": {
      "text/plain": [
       "False"
      ]
     },
     "execution_count": 93,
     "metadata": {},
     "output_type": "execute_result"
    }
   ],
   "source": [
    "check_foodnames([df_hot, df_oily, df_sweet])"
   ]
  },
  {
   "cell_type": "code",
   "execution_count": 118,
   "id": "24c9a707",
   "metadata": {},
   "outputs": [
    {
     "data": {
      "text/plain": [
       "(False, True)"
      ]
     },
     "execution_count": 118,
     "metadata": {},
     "output_type": "execute_result"
    }
   ],
   "source": [
    "import math\n",
    "check_no_na(pd.DataFrame([[0,2],[math.nan,1]])), check_no_na(pd.DataFrame([[0,2],[2,1]]))"
   ]
  },
  {
   "cell_type": "code",
   "execution_count": 121,
   "id": "d0dedda7",
   "metadata": {},
   "outputs": [
    {
     "data": {
      "text/html": [
       "<div>\n",
       "<style scoped>\n",
       "    .dataframe tbody tr th:only-of-type {\n",
       "        vertical-align: middle;\n",
       "    }\n",
       "\n",
       "    .dataframe tbody tr th {\n",
       "        vertical-align: top;\n",
       "    }\n",
       "\n",
       "    .dataframe thead th {\n",
       "        text-align: right;\n",
       "    }\n",
       "</style>\n",
       "<table border=\"1\" class=\"dataframe\">\n",
       "  <thead>\n",
       "    <tr style=\"text-align: right;\">\n",
       "      <th></th>\n",
       "      <th>0</th>\n",
       "      <th>1</th>\n",
       "      <th>2</th>\n",
       "    </tr>\n",
       "  </thead>\n",
       "  <tbody>\n",
       "    <tr>\n",
       "      <th>0</th>\n",
       "      <td>0.0</td>\n",
       "      <td>0.0</td>\n",
       "      <td>0.0</td>\n",
       "    </tr>\n",
       "    <tr>\n",
       "      <th>1</th>\n",
       "      <td>0.5</td>\n",
       "      <td>0.5</td>\n",
       "      <td>0.5</td>\n",
       "    </tr>\n",
       "    <tr>\n",
       "      <th>2</th>\n",
       "      <td>1.0</td>\n",
       "      <td>1.0</td>\n",
       "      <td>1.0</td>\n",
       "    </tr>\n",
       "  </tbody>\n",
       "</table>\n",
       "</div>"
      ],
      "text/plain": [
       "     0    1    2\n",
       "0  0.0  0.0  0.0\n",
       "1  0.5  0.5  0.5\n",
       "2  1.0  1.0  1.0"
      ]
     },
     "execution_count": 121,
     "metadata": {},
     "output_type": "execute_result"
    }
   ],
   "source": [
    "def min_max_scale(df):\n",
    "    df_min = df.min()\n",
    "    df_max = df.max()\n",
    "    extent = df_max - df_min\n",
    "    return ((df-df_min)/extent).loc[:,extent > 0]\n",
    "\n",
    "min_max_scale(pd.DataFrame([[1,2,3],[4,5,6],[7,8,9]]))"
   ]
  },
  {
   "cell_type": "code",
   "execution_count": 128,
   "id": "9a544a20",
   "metadata": {},
   "outputs": [],
   "source": [
    "hot = min_max_scale(df_hot).mean(axis=1)\n",
    "oily = min_max_scale(df_oily).mean(axis=1)\n",
    "sweet = min_max_scale(df_sweet).mean(axis=1)"
   ]
  },
  {
   "cell_type": "code",
   "execution_count": 133,
   "id": "765ef260",
   "metadata": {},
   "outputs": [],
   "source": [
    "df = pd.\\\n",
    "    concat([hot,oily,sweet],axis=1,keys=['hot','oily','sweet']).\\\n",
    "    dropna()"
   ]
  }
 ],
 "metadata": {
  "kernelspec": {
   "display_name": "Python 3 (ipykernel)",
   "language": "python",
   "name": "python3"
  },
  "language_info": {
   "codemirror_mode": {
    "name": "ipython",
    "version": 3
   },
   "file_extension": ".py",
   "mimetype": "text/x-python",
   "name": "python",
   "nbconvert_exporter": "python",
   "pygments_lexer": "ipython3",
   "version": "3.9.7"
  }
 },
 "nbformat": 4,
 "nbformat_minor": 5
}
