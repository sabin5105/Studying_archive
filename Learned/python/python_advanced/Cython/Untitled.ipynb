{
 "cells": [
  {
   "cell_type": "code",
   "execution_count": 2,
   "id": "bf7958f1",
   "metadata": {},
   "outputs": [
    {
     "name": "stdout",
     "output_type": "stream",
     "text": [
      "Compiling test.pyx because it changed.\r\n",
      "[1/1] Cythonizing test.pyx\r\n",
      "/Users/sabin/opt/anaconda3/lib/python3.9/site-packages/Cython/Compiler/Main.py:369: FutureWarning: Cython directive 'language_level' not set, using 2 for now (Py2). This will change in a later release! File: /Users/sabin/Documents/GitHub/Learned/python/python_advanced/Cython/test.pyx\r\n",
      "  tree = Parsing.p_module(s, pxd, full_module_name)\r\n",
      "\r\n",
      "Error compiling Cython file:\r\n",
      "------------------------------------------------------------\r\n",
      "...\r\n",
      "def list_append(i):\r\n",
      "    retrun [i for i in range(1, i+1)]             ^\r\n",
      "------------------------------------------------------------\r\n",
      "\r\n",
      "test.pyx:2:14: Expected ']', found 'for'\r\n",
      "Traceback (most recent call last):\r\n",
      "  File \"/Users/sabin/Documents/GitHub/Learned/python/python_advanced/Cython/setup.py\", line 4, in <module>\r\n",
      "    setup(ext_modules=cythonize(\"test.pyx\"))\r\n",
      "  File \"/Users/sabin/opt/anaconda3/lib/python3.9/site-packages/Cython/Build/Dependencies.py\", line 1127, in cythonize\r\n",
      "    cythonize_one(*args)\r\n",
      "  File \"/Users/sabin/opt/anaconda3/lib/python3.9/site-packages/Cython/Build/Dependencies.py\", line 1250, in cythonize_one\r\n",
      "    raise CompileError(None, pyx_file)\r\n",
      "Cython.Compiler.Errors.CompileError: test.pyx\r\n"
     ]
    }
   ],
   "source": [
    "!python setup.py build_ext --inplace"
   ]
  },
  {
   "cell_type": "code",
   "execution_count": 3,
   "id": "0d084b56",
   "metadata": {},
   "outputs": [
    {
     "data": {
      "text/plain": [
       "49999995000000"
      ]
     },
     "execution_count": 3,
     "metadata": {},
     "output_type": "execute_result"
    }
   ],
   "source": [
    "sum([i for i in range(10000000)])"
   ]
  },
  {
   "cell_type": "code",
   "execution_count": null,
   "id": "6e3c7161",
   "metadata": {},
   "outputs": [],
   "source": []
  }
 ],
 "metadata": {
  "kernelspec": {
   "display_name": "Python 3 (ipykernel)",
   "language": "python",
   "name": "python3"
  },
  "language_info": {
   "codemirror_mode": {
    "name": "ipython",
    "version": 3
   },
   "file_extension": ".py",
   "mimetype": "text/x-python",
   "name": "python",
   "nbconvert_exporter": "python",
   "pygments_lexer": "ipython3",
   "version": "3.9.12"
  }
 },
 "nbformat": 4,
 "nbformat_minor": 5
}
